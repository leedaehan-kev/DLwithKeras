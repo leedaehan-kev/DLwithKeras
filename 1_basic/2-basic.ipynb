{
 "cells": [
  {
   "cell_type": "code",
   "execution_count": 10,
   "id": "ebbe3059",
   "metadata": {},
   "outputs": [
    {
     "data": {
      "text/plain": [
       "'cpu'"
      ]
     },
     "execution_count": 10,
     "metadata": {},
     "output_type": "execute_result"
    }
   ],
   "source": [
    "import torch\n",
    "import numpy as np\n",
    "import matplotlib.pyplot as plt\n",
    "\n",
    "device = \"cuda:0\" if torch.cuda.is_available() else \"cpu\"\n",
    "device"
   ]
  },
  {
   "cell_type": "code",
   "execution_count": 11,
   "id": "90b0a74a",
   "metadata": {},
   "outputs": [
    {
     "data": {
      "text/plain": [
       "tensor([0., 1., 2., 3., 4., 5.], dtype=torch.float64)"
      ]
     },
     "execution_count": 11,
     "metadata": {},
     "output_type": "execute_result"
    }
   ],
   "source": [
    "numpy_array = np.array([0.0, 1.0, 2.0, 3.0, 4.0, 5.0])       # numpy array\n",
    "torch_tensor = torch.from_numpy(numpy_array)               # torch tensor\n",
    "torch_tensor "
   ]
  },
  {
   "cell_type": "code",
   "execution_count": 13,
   "id": "ed664146",
   "metadata": {},
   "outputs": [
    {
     "data": {
      "text/plain": [
       "array([0., 1., 2., 3., 4., 5.])"
      ]
     },
     "execution_count": 13,
     "metadata": {},
     "output_type": "execute_result"
    }
   ],
   "source": [
    "back_to_numpy=torch_tensor.numpy()\n",
    "back_to_numpy"
   ]
  },
  {
   "cell_type": "code",
   "execution_count": 14,
   "id": "9249ffee",
   "metadata": {},
   "outputs": [],
   "source": [
    "back_to_numpy[-1]=100"
   ]
  },
  {
   "cell_type": "code",
   "execution_count": 15,
   "id": "4191f5f3",
   "metadata": {},
   "outputs": [
    {
     "data": {
      "text/plain": [
       "array([  0.,   1.,   2.,   3.,   4., 100.])"
      ]
     },
     "execution_count": 15,
     "metadata": {},
     "output_type": "execute_result"
    }
   ],
   "source": [
    "back_to_numpy"
   ]
  },
  {
   "cell_type": "code",
   "execution_count": 16,
   "id": "9fd11f06",
   "metadata": {},
   "outputs": [
    {
     "data": {
      "text/plain": [
       "array([  0.,   1.,   2.,   3.,   4., 100.])"
      ]
     },
     "execution_count": 16,
     "metadata": {},
     "output_type": "execute_result"
    }
   ],
   "source": [
    "back_to_numpy"
   ]
  },
  {
   "cell_type": "code",
   "execution_count": 18,
   "id": "8fe741f6",
   "metadata": {},
   "outputs": [
    {
     "data": {
      "text/plain": [
       "array([  0.,   1.,   2.,   3.,   4., 100.])"
      ]
     },
     "execution_count": 18,
     "metadata": {},
     "output_type": "execute_result"
    }
   ],
   "source": [
    "numpy_array # 값 하나를 바꾸면 서로 메모리를 공유함"
   ]
  },
  {
   "cell_type": "code",
   "execution_count": null,
   "id": "d47efe6a",
   "metadata": {},
   "outputs": [],
   "source": []
  }
 ],
 "metadata": {
  "kernelspec": {
   "display_name": "kev",
   "language": "python",
   "name": "kev"
  },
  "language_info": {
   "codemirror_mode": {
    "name": "ipython",
    "version": 3
   },
   "file_extension": ".py",
   "mimetype": "text/x-python",
   "name": "python",
   "nbconvert_exporter": "python",
   "pygments_lexer": "ipython3",
   "version": "3.7.11"
  }
 },
 "nbformat": 4,
 "nbformat_minor": 5
}
